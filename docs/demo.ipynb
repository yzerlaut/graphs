{
 "cells": [
  {
   "cell_type": "code",
   "execution_count": 1,
   "metadata": {
    "autoscroll": false,
    "collapsed": false,
    "ein.tags": "worksheet-0",
    "slideshow": {
     "slide_type": "-"
    }
   },
   "outputs": [],
   "source": [
    "import my_graph_nb as mg\n",
    "%matplotlib inline\n",
    "import numpy as np"
   ]
  },
  {
   "cell_type": "code",
   "execution_count": 2,
   "metadata": {
    "autoscroll": false,
    "collapsed": false,
    "ein.tags": "worksheet-0",
    "slideshow": {
     "slide_type": "-"
    }
   },
   "outputs": [
    {
     "data": {
      "text/plain": [
       "(<Figure size 71.712x101.088 with 1 Axes>,\n <matplotlib.axes._subplots.AxesSubplot at 0x1a1248a2b0>,\n 0.905460058089141)"
      ]
     },
     "execution_count": 2,
     "metadata": {},
     "output_type": "execute_result"
    },
    {
     "data": {
      "image/png": "[encoded data removed]",
      "text/plain": [
       "<Figure size 71.712x101.088 with 1 Axes>"
      ]
     },
     "metadata": {},
     "output_type": "display_data"
    }
   ],
   "source": [
    "from bar_plots import unrelated_samples_two_conditions_comparison\n",
    "unrelated_samples_two_conditions_comparison(np.random.randn(10)+1.4,\n",
    "                                            np.random.randn(12)+1.4,\n",
    "       xticks_labels=['$\\||$cc($V_m$,$V_{ext}$)$\\||$', '$cc(V_m,pLFP)$'],\n",
    "                                              xticks_rotation=90)"
   ]
  },
  {
   "cell_type": "code",
   "execution_count": null,
   "metadata": {
    "autoscroll": false,
    "collapsed": false,
    "ein.tags": "worksheet-0",
    "slideshow": {
     "slide_type": "-"
    }
   },
   "outputs": [],
   "source": [
    "ls"
   ]
  },
  {
   "cell_type": "code",
   "execution_count": 10,
   "metadata": {
    "autoscroll": false,
    "collapsed": false,
    "ein.tags": "worksheet-0",
    "slideshow": {
     "slide_type": "-"
    }
   },
   "outputs": [
    {
     "data": {
      "text/plain": [
       "(<Figure size 119.52x101.088 with 1 Axes>,\n",
       " <matplotlib.axes._subplots.AxesSubplot at 0x1a128d1da0>)"
      ]
     },
     "execution_count": 10,
     "metadata": {},
     "output_type": "execute_result"
    },
    {
     "data": {
      "image/png": "[encoded data removed]",
      "text/plain": [
       "<Figure size 239.04x202.176 with 1 Axes>"
      ]
     },
     "metadata": {},
     "output_type": "display_data"
    },
    {
     "data": {
      "image/png": "[encoded data removed]",
      "text/plain": [
       "<Figure size 119.52x101.088 with 1 Axes>"
      ]
     },
     "metadata": {},
     "output_type": "display_data"
    }
   ],
   "source": [
    "def nb_figure(axes = (1,1),\n",
    "              axes_extents=None,\n",
    "              figsize=(1.,1.),\n",
    "              left=1., right=1.,\n",
    "              bottom=1., top=1.,\n",
    "              wspace=1., hspace=1.,\n",
    "              with_top_left_letter='',\n",
    "              fontsize=FONTSIZE, fontweight='bold'):\n",
    "    return figure(axes = axes,\n",
    "                  axes_extents=axes_extents,\n",
    "                  figsize=2.*np.array(figsize),\n",
    "                  left=left, right=right,\n",
    "                  bottom=bottom, top=top,\n",
    "                  wspace=wspace, hspace=hspace,\n",
    "                  with_top_left_letter=with_top_left_letter,\n",
    "                  fontsize=FONTSIZE, fontweight='bold')\n",
    "nb_figure()\n",
    "figure()"
   ]
  },
  {
   "cell_type": "code",
   "execution_count": null,
   "metadata": {
    "autoscroll": false,
    "collapsed": false,
    "ein.tags": "worksheet-0",
    "slideshow": {
     "slide_type": "-"
    }
   },
   "outputs": [],
   "source": [
    "plt.style.use('dark_background')"
   ]
  },
  {
   "cell_type": "code",
   "execution_count": 2,
   "metadata": {
    "autoscroll": false,
    "collapsed": false,
    "ein.hycell": false,
    "ein.tags": "worksheet-0",
    "slideshow": {
     "slide_type": "-"
    }
   },
   "outputs": [],
   "source": [
    "import matplotlib as mpl\n",
    "import matplotlib.pylab as plt\n",
    "\n",
    "10= 8\n",
    "mpl.rcParams.update({'axes.labelsize': 10,\n",
    "                     'axes.titlesize': 10,\n",
    "                     'figure.titlesize': 10,\n",
    "                     'font.size': 10,\n",
    "                     'legend.fontsize': 10,\n",
    "                     'xtick.labelsize': 10,\n",
    "                     'ytick.labelsize': 10,\n",
    "                     'figure.facecolor': 'none',\n",
    "                     'legend.facecolor': 'none',\n",
    "                     'axes.facecolor': 'none',\n",
    "                     'savefig.facecolor': 'none'})\n"
   ]
  },
  {
   "cell_type": "code",
   "execution_count": 3,
   "metadata": {
    "autoscroll": false,
    "collapsed": false,
    "ein.hycell": false,
    "ein.tags": "worksheet-0",
    "slideshow": {
     "slide_type": "-"
    }
   },
   "outputs": [
    {
     "data": {
      "image/png": "[encoded data removed]",
      "text/plain": [
       "<Figure size 119.52x101.088 with 1 Axes>"
      ]
     },
     "metadata": {},
     "output_type": "display_data"
    }
   ],
   "source": [
    "from my_graph import *\n",
    "plt.style.use('dark_background')\n",
    "mpl.rcParams.update({'axes.labelsize': 10,\n",
    "                     'axes.titlesize': 10,\n",
    "                     'figure.titlesize': 10,\n",
    "                     'font.size': 10,\n",
    "                     'legend.fontsize': 10,\n",
    "                     'xtick.labelsize': 10,\n",
    "                     'ytick.labelsize': 10,\n",
    "                     'figure.facecolor': 'none',\n",
    "                     'legend.facecolor': 'none',\n",
    "                     'axes.facecolor': 'none',\n",
    "                     'savefig.facecolor': 'none'})\n",
    "hist(np.random.randn(100));"
   ]
  },
  {
   "cell_type": "code",
   "execution_count": null,
   "metadata": {
    "autoscroll": false,
    "collapsed": false,
    "ein.tags": "worksheet-0",
    "slideshow": {
     "slide_type": "-"
    }
   },
   "outputs": [],
   "source": []
  }
 ],
 "metadata": {
  "kernelspec": {
   "display_name": "Python [Root]",
   "name": "Python [Root]"
  },
  "language_info": {
   "codemirror_mode": {
    "name": "ipython",
    "version": 3
   },
   "file_extension": ".py",
   "mimetype": "text/x-python",
   "name": "python",
   "nbconvert_exporter": "python",
   "pygments_lexer": "ipython3",
   "version": "3.5.5"
  },
  "name": "demo.ipynb"
 },
 "nbformat": 4,
 "nbformat_minor": 2
}

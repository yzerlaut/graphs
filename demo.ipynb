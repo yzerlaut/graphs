{
 "cells": [
  {
   "cell_type": "code",
   "execution_count": 3,
   "metadata": {
    "autoscroll": false,
    "collapsed": false,
    "ein.hycell": false,
    "ein.tags": "worksheet-0",
    "slideshow": {
     "slide_type": "-"
    }
   },
   "outputs": [],
   "source": [
    "import numpy as np\n",
    "import matplotlib.pylab as plt\n",
    "%matplotlib inline\n",
    "plt.style.use('dark_background')"
   ]
  },
  {
   "cell_type": "code",
   "execution_count": 6,
   "metadata": {
    "autoscroll": false,
    "collapsed": false,
    "ein.hycell": false,
    "ein.tags": "worksheet-0",
    "slideshow": {
     "slide_type": "-"
    }
   },
   "outputs": [],
   "source": [
    "import matplotlib as mpl\n",
    "import matplotlib.pylab as plt\n",
    "\n",
    "FONTSIZE= 8\n",
    "mpl.rcParams.update({'axes.labelsize': FONTSIZE,\n",
    "                     'axes.titlesize': FONTSIZE,\n",
    "                     'figure.titlesize': FONTSIZE,\n",
    "                     'font.size': FONTSIZE,\n",
    "                     'legend.fontsize': FONTSIZE,\n",
    "                     'xtick.labelsize': FONTSIZE,\n",
    "                     'ytick.labelsize': FONTSIZE,\n",
    "                     'figure.facecolor': 'none',\n",
    "                     'legend.facecolor': 'none',\n",
    "                     'axes.facecolor': 'none',\n",
    "                     'savefig.facecolor': 'none'})\n"
   ]
  },
  {
   "cell_type": "code",
   "execution_count": 11,
   "metadata": {
    "autoscroll": false,
    "collapsed": false,
    "ein.hycell": false,
    "ein.tags": "worksheet-0",
    "slideshow": {
     "slide_type": "-"
    }
   },
   "outputs": [
    {
     "name": "stderr",
     "output_type": "stream",
     "text": [
      "C:\\Users\\zeihr\\work\\graphs\\..\\graphs\\hist_plots.py:20: VisibleDeprecationWarning: Passing `normed=True` on non-uniform bins has always been broken, and computes neither the probability density function nor the probability mass function. The result is only correct if the bins are uniform, when density=True will produce the same result anyway. The argument will be removed in a future version of numpy.\n",
      "  hist, be = np.histogram(x, bins=bins, normed=normed)\n"
     ]
    },
    {
     "data": {
      "image/png": "[encoded data removed]",
      "text/plain": [
       "<Figure size 119.52x101.088 with 1 Axes>"
      ]
     },
     "metadata": {},
     "output_type": "display_data"
    }
   ],
   "source": [
    "from my_graph import *\n",
    "plt.style.use('dark_background')\n",
    "mpl.rcParams.update({'axes.labelsize': FONTSIZE,\n",
    "                     'axes.titlesize': FONTSIZE,\n",
    "                     'figure.titlesize': FONTSIZE,\n",
    "                     'font.size': FONTSIZE,\n",
    "                     'legend.fontsize': FONTSIZE,\n",
    "                     'xtick.labelsize': FONTSIZE,\n",
    "                     'ytick.labelsize': FONTSIZE,\n",
    "                     'figure.facecolor': 'none',\n",
    "                     'legend.facecolor': 'none',\n",
    "                     'axes.facecolor': 'none',\n",
    "                     'savefig.facecolor': 'none'})\n",
    "hist(np.random.randn(100));"
   ]
  }
 ],
 "metadata": {
  "kernelspec": {
   "display_name": "Python 3",
   "name": "python3"
  },
  "name": "Untitled.ipynb"
 },
 "nbformat": 4,
 "nbformat_minor": 2
}
